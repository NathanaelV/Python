{
 "cells": [
  {
   "cell_type": "markdown",
   "metadata": {},
   "source": [
    "Automação Web e Busca de Informação com Python\n",
    "\n",
    "Desafio:\n",
    "\n",
    "Trabalhamos em uma importadora e o preço dos nossos produtos é vinculado a cotação do:\n",
    "- Dolar\n",
    "- Euro\n",
    "- Ouro\n",
    "\n",
    "Precisamos pegar na internet, de forma automatica, a cotação desses 3 itens e saber quanto devemos cobrar pelos nossos produtos, considerando uma margem de contribuição que temos na nossa base de dados.\n",
    "\n",
    "Para isso vamos criar uma automação Web.\n",
    "    - Usaremos o selenium\n",
    "    - Importante: baixar o Webdriver\n",
    "         - Chrome chromedriver\n",
    "         - Baixar e colocar dentro do arquivo do Anaconda"
   ]
  },
  {
   "cell_type": "markdown",
   "metadata": {},
   "source": [
    "Web Scraping: Pesquisar informações na web"
   ]
  },
  {
   "cell_type": "code",
   "execution_count": 47,
   "metadata": {},
   "outputs": [],
   "source": [
    "from selenium import webdriver\n",
    "# keys é o comando que usa o teclado em segundo plano\n",
    "from selenium.webdriver.common.keys import Keys\n",
    "\n",
    "# Selenium permite integrar o Python com o computador\n",
    "\n",
    "# abrir o navegador automaticamente\n",
    "navegador = webdriver.Chrome()\n",
    "# Com mais algumas linhas de códigos, é possível não ver o navegador\n",
    "# Deixar unicamente em segundo plano\n",
    "\n",
    "\n",
    "# Para o navegador funcionar em segundo plano:\n",
    "\n",
    "# from selenium.webdriver.chrome.options import Options\n",
    "# chrome_options = Options\n",
    "# chrome_options.headless = True  # also works\n",
    "# nav = webdriver.Chrome(options = chrome_options)\n",
    "\n",
    "\n",
    "# Passo a passo:\n",
    "# OBS: No sites eles não usam \\ (contra barra) usa / (barra)\n",
    "# não precisa usar o r\n"
   ]
  },
  {
   "cell_type": "code",
   "execution_count": 48,
   "metadata": {},
   "outputs": [
    {
     "name": "stdout",
     "output_type": "stream",
     "text": [
      "5.438336\n"
     ]
    }
   ],
   "source": [
    "# pesquisar no google cotação dolar\n",
    "# pegar a cotação do dolar\n",
    "navegador.get('https://www.google.com/')\n",
    "\n",
    "# abrir o navegador -> Inspesionar -> \n",
    "# Setinha no canto superior esquerdo do inspesionar\n",
    "# Clica na barra de pesquisa -> Ver onde ficou selecionado\n",
    "# Botão esquerdo -> Copy -> Copy XPath -> Colar código abaixo\n",
    "\n",
    "navegador.find_element_by_xpath('/html/body/div[1]/div[3]/form/div[1]/div[1]/div[1]/div/div[2]/input').send_keys('cotação dolar')\n",
    "navegador.find_element_by_xpath('/html/body/div[1]/div[3]/form/div[1]/div[1]/div[1]/div/div[2]/input').send_keys(Keys.ENTER)\n",
    "\n",
    "# pegando o valor da busca do google\n",
    "# get.attribute() para pegar o valor do link\n",
    "# tem que procurar no link onde está esse valor\n",
    "cotacao_dolar = navegador.find_element_by_xpath('//*[@id=\"knowledge-currency__updatable-data-column\"]/div[1]/div[2]/span[1]').get_attribute('data-value')\n",
    "print(cotacao_dolar)"
   ]
  },
  {
   "cell_type": "code",
   "execution_count": 49,
   "metadata": {},
   "outputs": [
    {
     "name": "stdout",
     "output_type": "stream",
     "text": [
      "6.53685268\n"
     ]
    }
   ],
   "source": [
    "# pesquisar no google cotação euro\n",
    "# pegar a cotação do euro\n",
    "\n",
    "navegador.get('https://www.google.com/')\n",
    "\n",
    "navegador.find_element_by_xpath('/html/body/div[1]/div[3]/form/div[1]/div[1]/div[1]/div/div[2]/input').send_keys('cotação euro')\n",
    "navegador.find_element_by_xpath('/html/body/div[1]/div[3]/form/div[1]/div[1]/div[1]/div/div[2]/input').send_keys(Keys.ENTER)\n",
    "\n",
    "cotacao_euro = navegador.find_element_by_xpath('//*[@id=\"knowledge-currency__updatable-data-column\"]/div[1]/div[2]/span[1]').get_attribute('data-value')\n",
    "print(cotacao_euro)\n"
   ]
  },
  {
   "cell_type": "code",
   "execution_count": 50,
   "metadata": {},
   "outputs": [
    {
     "name": "stdout",
     "output_type": "stream",
     "text": [
      "309,14\n",
      "309.14\n"
     ]
    }
   ],
   "source": [
    "# entrar no site melhor combio\n",
    "# pegar a cotação do ouro\n",
    "\n",
    "navegador.get('https://www.melhorcambio.com/ouro-hoje')\n",
    "\n",
    "cotacao_ouro = navegador.find_element_by_xpath('//*[@id=\"comercial\"]').get_attribute('value')\n",
    "print(cotacao_ouro)\n",
    "\n",
    "# tratar o texto: trocando a , (virgula) pelo . (ponto)\n",
    "cotacao_ouro = cotacao_ouro.replace(',', '.')\n",
    "print(cotacao_ouro)"
   ]
  },
  {
   "cell_type": "code",
   "execution_count": 51,
   "metadata": {},
   "outputs": [],
   "source": [
    "# Para clicar em algum elemento da página\n",
    "\n",
    "# Mesmo passo a passo para achar o Copy XPath\n",
    "# navegador.find_element_by_xpath('endereço copy XPath').click()"
   ]
  },
  {
   "cell_type": "markdown",
   "metadata": {},
   "source": [
    "pyautogui -> automatiza mouse, tela e teclado\n",
    "- São automações que impede você de usar o computador\n",
    "- Funciona em qualquer ferramenta/sistema/programa\n",
    "- Se a tela mudar, ele para de funcionar\n",
    "\n",
    "selenium -> automatiza a web/internet\n",
    "- Só funciona para internet\n",
    "- Funciona mesmo com você fazendo outra coisa no computador\n",
    "- Funcina mesmo se a posição das coisas na tela mudar\n",
    "\n",
    "Tentar usar o selenium sempre que possível"
   ]
  },
  {
   "cell_type": "markdown",
   "metadata": {},
   "source": [
    "Agora vamos atualiza a nossa base de preços com as novas cotações\n",
    "- Importando a base de dados"
   ]
  },
  {
   "cell_type": "code",
   "execution_count": 52,
   "metadata": {},
   "outputs": [
    {
     "data": {
      "text/html": [
       "<div>\n",
       "<style scoped>\n",
       "    .dataframe tbody tr th:only-of-type {\n",
       "        vertical-align: middle;\n",
       "    }\n",
       "\n",
       "    .dataframe tbody tr th {\n",
       "        vertical-align: top;\n",
       "    }\n",
       "\n",
       "    .dataframe thead th {\n",
       "        text-align: right;\n",
       "    }\n",
       "</style>\n",
       "<table border=\"1\" class=\"dataframe\">\n",
       "  <thead>\n",
       "    <tr style=\"text-align: right;\">\n",
       "      <th></th>\n",
       "      <th>Produtos</th>\n",
       "      <th>Preço Base Original</th>\n",
       "      <th>Moeda</th>\n",
       "      <th>Cotação</th>\n",
       "      <th>Preço Base Reais</th>\n",
       "      <th>Ajuste</th>\n",
       "      <th>Preço Final</th>\n",
       "    </tr>\n",
       "  </thead>\n",
       "  <tbody>\n",
       "    <tr>\n",
       "      <th>0</th>\n",
       "      <td>Câmera Canon</td>\n",
       "      <td>999.99</td>\n",
       "      <td>Dólar</td>\n",
       "      <td>5</td>\n",
       "      <td>4999.95</td>\n",
       "      <td>1.40</td>\n",
       "      <td>6999.930</td>\n",
       "    </tr>\n",
       "    <tr>\n",
       "      <th>1</th>\n",
       "      <td>Carro Renault</td>\n",
       "      <td>4500.00</td>\n",
       "      <td>Euro</td>\n",
       "      <td>6</td>\n",
       "      <td>27000.00</td>\n",
       "      <td>2.00</td>\n",
       "      <td>54000.000</td>\n",
       "    </tr>\n",
       "    <tr>\n",
       "      <th>2</th>\n",
       "      <td>Notebook Dell</td>\n",
       "      <td>899.99</td>\n",
       "      <td>Dólar</td>\n",
       "      <td>5</td>\n",
       "      <td>4499.95</td>\n",
       "      <td>1.70</td>\n",
       "      <td>7649.915</td>\n",
       "    </tr>\n",
       "    <tr>\n",
       "      <th>3</th>\n",
       "      <td>IPhone</td>\n",
       "      <td>799.00</td>\n",
       "      <td>Dólar</td>\n",
       "      <td>5</td>\n",
       "      <td>3995.00</td>\n",
       "      <td>1.70</td>\n",
       "      <td>6791.500</td>\n",
       "    </tr>\n",
       "    <tr>\n",
       "      <th>4</th>\n",
       "      <td>Carro Fiat</td>\n",
       "      <td>3000.00</td>\n",
       "      <td>Euro</td>\n",
       "      <td>6</td>\n",
       "      <td>18000.00</td>\n",
       "      <td>1.90</td>\n",
       "      <td>34200.000</td>\n",
       "    </tr>\n",
       "    <tr>\n",
       "      <th>5</th>\n",
       "      <td>Celular Xiaomi</td>\n",
       "      <td>480.48</td>\n",
       "      <td>Dólar</td>\n",
       "      <td>5</td>\n",
       "      <td>2402.40</td>\n",
       "      <td>2.00</td>\n",
       "      <td>4804.800</td>\n",
       "    </tr>\n",
       "    <tr>\n",
       "      <th>6</th>\n",
       "      <td>Joia 20g</td>\n",
       "      <td>20.00</td>\n",
       "      <td>Ouro</td>\n",
       "      <td>350</td>\n",
       "      <td>7000.00</td>\n",
       "      <td>1.15</td>\n",
       "      <td>8050.000</td>\n",
       "    </tr>\n",
       "  </tbody>\n",
       "</table>\n",
       "</div>"
      ],
      "text/plain": [
       "         Produtos  Preço Base Original  Moeda  Cotação  Preço Base Reais  \\\n",
       "0    Câmera Canon               999.99  Dólar        5           4999.95   \n",
       "1   Carro Renault              4500.00   Euro        6          27000.00   \n",
       "2   Notebook Dell               899.99  Dólar        5           4499.95   \n",
       "3          IPhone               799.00  Dólar        5           3995.00   \n",
       "4      Carro Fiat              3000.00   Euro        6          18000.00   \n",
       "5  Celular Xiaomi               480.48  Dólar        5           2402.40   \n",
       "6        Joia 20g                20.00   Ouro      350           7000.00   \n",
       "\n",
       "   Ajuste  Preço Final  \n",
       "0    1.40     6999.930  \n",
       "1    2.00    54000.000  \n",
       "2    1.70     7649.915  \n",
       "3    1.70     6791.500  \n",
       "4    1.90    34200.000  \n",
       "5    2.00     4804.800  \n",
       "6    1.15     8050.000  "
      ]
     },
     "metadata": {},
     "output_type": "display_data"
    }
   ],
   "source": [
    "import pandas as pd\n",
    "\n",
    "# Arquivo excel na pasta do arquivo Aula 4\n",
    "tabela_produtos = pd.read_excel('Produtos.xlsx')\n",
    "display(tabela_produtos)"
   ]
  },
  {
   "cell_type": "markdown",
   "metadata": {},
   "source": [
    "Tabela\n",
    "    Preço base Original é o preço que eu compro\n",
    "    Preço base Reais é o preço em reais \n",
    "    Ajuste é o ajuste para eu ter o lucro\n",
    "    Preço Final, é o preço de venda"
   ]
  },
  {
   "cell_type": "markdown",
   "metadata": {},
   "source": [
    "- Atualizando os preços e o cálculo do Preço Final"
   ]
  },
  {
   "cell_type": "code",
   "execution_count": 53,
   "metadata": {},
   "outputs": [
    {
     "data": {
      "text/html": [
       "<div>\n",
       "<style scoped>\n",
       "    .dataframe tbody tr th:only-of-type {\n",
       "        vertical-align: middle;\n",
       "    }\n",
       "\n",
       "    .dataframe tbody tr th {\n",
       "        vertical-align: top;\n",
       "    }\n",
       "\n",
       "    .dataframe thead th {\n",
       "        text-align: right;\n",
       "    }\n",
       "</style>\n",
       "<table border=\"1\" class=\"dataframe\">\n",
       "  <thead>\n",
       "    <tr style=\"text-align: right;\">\n",
       "      <th></th>\n",
       "      <th>Produtos</th>\n",
       "      <th>Preço Base Original</th>\n",
       "      <th>Moeda</th>\n",
       "      <th>Cotação</th>\n",
       "      <th>Preço Base Reais</th>\n",
       "      <th>Ajuste</th>\n",
       "      <th>Preço Final</th>\n",
       "    </tr>\n",
       "  </thead>\n",
       "  <tbody>\n",
       "    <tr>\n",
       "      <th>0</th>\n",
       "      <td>Câmera Canon</td>\n",
       "      <td>999.99</td>\n",
       "      <td>Dólar</td>\n",
       "      <td>5.4383</td>\n",
       "      <td>5438.28</td>\n",
       "      <td>1.40</td>\n",
       "      <td>7613.59</td>\n",
       "    </tr>\n",
       "    <tr>\n",
       "      <th>1</th>\n",
       "      <td>Carro Renault</td>\n",
       "      <td>4500.00</td>\n",
       "      <td>Euro</td>\n",
       "      <td>6.5369</td>\n",
       "      <td>29415.84</td>\n",
       "      <td>2.00</td>\n",
       "      <td>58831.67</td>\n",
       "    </tr>\n",
       "    <tr>\n",
       "      <th>2</th>\n",
       "      <td>Notebook Dell</td>\n",
       "      <td>899.99</td>\n",
       "      <td>Dólar</td>\n",
       "      <td>5.4383</td>\n",
       "      <td>4894.45</td>\n",
       "      <td>1.70</td>\n",
       "      <td>8320.56</td>\n",
       "    </tr>\n",
       "    <tr>\n",
       "      <th>3</th>\n",
       "      <td>IPhone</td>\n",
       "      <td>799.00</td>\n",
       "      <td>Dólar</td>\n",
       "      <td>5.4383</td>\n",
       "      <td>4345.23</td>\n",
       "      <td>1.70</td>\n",
       "      <td>7386.89</td>\n",
       "    </tr>\n",
       "    <tr>\n",
       "      <th>4</th>\n",
       "      <td>Carro Fiat</td>\n",
       "      <td>3000.00</td>\n",
       "      <td>Euro</td>\n",
       "      <td>6.5369</td>\n",
       "      <td>19610.56</td>\n",
       "      <td>1.90</td>\n",
       "      <td>37260.06</td>\n",
       "    </tr>\n",
       "    <tr>\n",
       "      <th>5</th>\n",
       "      <td>Celular Xiaomi</td>\n",
       "      <td>480.48</td>\n",
       "      <td>Dólar</td>\n",
       "      <td>5.4383</td>\n",
       "      <td>2613.01</td>\n",
       "      <td>2.00</td>\n",
       "      <td>5226.02</td>\n",
       "    </tr>\n",
       "    <tr>\n",
       "      <th>6</th>\n",
       "      <td>Joia 20g</td>\n",
       "      <td>20.00</td>\n",
       "      <td>Ouro</td>\n",
       "      <td>309.1400</td>\n",
       "      <td>6182.80</td>\n",
       "      <td>1.15</td>\n",
       "      <td>7110.22</td>\n",
       "    </tr>\n",
       "  </tbody>\n",
       "</table>\n",
       "</div>"
      ],
      "text/plain": [
       "         Produtos  Preço Base Original  Moeda   Cotação Preço Base Reais  \\\n",
       "0    Câmera Canon               999.99  Dólar    5.4383          5438.28   \n",
       "1   Carro Renault              4500.00   Euro    6.5369         29415.84   \n",
       "2   Notebook Dell               899.99  Dólar    5.4383          4894.45   \n",
       "3          IPhone               799.00  Dólar    5.4383          4345.23   \n",
       "4      Carro Fiat              3000.00   Euro    6.5369         19610.56   \n",
       "5  Celular Xiaomi               480.48  Dólar    5.4383          2613.01   \n",
       "6        Joia 20g                20.00   Ouro  309.1400          6182.80   \n",
       "\n",
       "   Ajuste Preço Final  \n",
       "0    1.40     7613.59  \n",
       "1    2.00    58831.67  \n",
       "2    1.70     8320.56  \n",
       "3    1.70     7386.89  \n",
       "4    1.90    37260.06  \n",
       "5    2.00     5226.02  \n",
       "6    1.15     7110.22  "
      ]
     },
     "metadata": {},
     "output_type": "display_data"
    }
   ],
   "source": [
    "# Passo 1: Atualizar as cotações\n",
    "\n",
    "# Por usar [] (Colchetes) por padrão ele usa as colunas\n",
    "# Não preciso usar axis=1\n",
    "# loc é para localizar \n",
    "# loc[Na coluna de moeda onde está escrito dolar, 'coluna'] que eu pretendo editar\n",
    "tabela_produtos.loc[tabela_produtos['Moeda'] == 'Dólar', 'Cotação'] = float(cotacao_dolar)\n",
    "\n",
    "# Atualizando o Euro\n",
    "tabela_produtos.loc[tabela_produtos['Moeda'] == 'Euro', 'Cotação'] = float(cotacao_euro)\n",
    "\n",
    "# Atualizando o Ouro\n",
    "tabela_produtos.loc[tabela_produtos['Moeda'] == 'Ouro', 'Cotação'] = float(cotacao_ouro)\n",
    "\n",
    "\n",
    "# Passo 2: Atualizar o preço base reais -> cotação * preço base original\n",
    "tabela_produtos['Preço Base Reais'] = tabela_produtos['Cotação'] * tabela_produtos['Preço Base Original']\n",
    "# tabela_produtos['Preço Base Reais'] = tabela_produtos['Preço Base Reais'].map('{:.2f}'.format)\n",
    "\n",
    "# Passo 3:\n",
    "tabela_produtos['Preço Final'] = tabela_produtos['Ajuste'] * tabela_produtos['Preço Base Reais']\n",
    "\n",
    "# Passo 4: Formatando as casas decimais\n",
    "tabela_produtos['Preço Final'] = tabela_produtos['Preço Final'].map('{:.2f}'.format)\n",
    "tabela_produtos['Preço Base Reais'] = tabela_produtos['Preço Base Reais'].map('{:.2f}'.format)\n",
    "tabela_produtos['Cotação'] = tabela_produtos['Cotação'].map('{:.4f}'.format)\n",
    "\n",
    "display(tabela_produtos)"
   ]
  },
  {
   "cell_type": "markdown",
   "metadata": {},
   "source": [
    "Agora vamos exportar a nova base de preços atualizada"
   ]
  },
  {
   "cell_type": "code",
   "execution_count": 54,
   "metadata": {},
   "outputs": [],
   "source": [
    "# Para exportar essa base de dados \n",
    "# Tomar cuidado para não deixar o mesmo nome do outra tabela \n",
    "# Caso contrário, irá substituir automaticamente\n",
    "# Para não importar o index junto com a tabela, index=False\n",
    "tabela_produtos.to_excel('Produtos Atualisado.xlsx', index=False)"
   ]
  }
 ],
 "metadata": {
  "kernelspec": {
   "display_name": "Python 3",
   "language": "python",
   "name": "python3"
  },
  "language_info": {
   "codemirror_mode": {
    "name": "ipython",
    "version": 3
   },
   "file_extension": ".py",
   "mimetype": "text/x-python",
   "name": "python",
   "nbconvert_exporter": "python",
   "pygments_lexer": "ipython3",
   "version": "3.8.5"
  }
 },
 "nbformat": 4,
 "nbformat_minor": 4
}
